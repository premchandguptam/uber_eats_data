{
 "cells": [
  {
   "cell_type": "code",
   "execution_count": 1,
   "id": "74d8adc5",
   "metadata": {
    "_cell_guid": "b1076dfc-b9ad-4769-8c92-a6c4dae69d19",
    "_uuid": "8f2839f25d086af736a60e9eeb907d3b93b6e0e5",
    "execution": {
     "iopub.execute_input": "2022-11-30T20:45:40.632303Z",
     "iopub.status.busy": "2022-11-30T20:45:40.631710Z",
     "iopub.status.idle": "2022-11-30T20:45:40.656198Z",
     "shell.execute_reply": "2022-11-30T20:45:40.655281Z"
    },
    "papermill": {
     "duration": 0.0368,
     "end_time": "2022-11-30T20:45:40.661406",
     "exception": false,
     "start_time": "2022-11-30T20:45:40.624606",
     "status": "completed"
    },
    "tags": []
   },
   "outputs": [
    {
     "name": "stdout",
     "output_type": "stream",
     "text": [
      "/kaggle/input/the-ubereats-restaurant-dataset-over-100000-us-r/Ubereat_US_Merchant.csv\n"
     ]
    }
   ],
   "source": [
    "# This Python 3 environment comes with many helpful analytics libraries installed\n",
    "# It is defined by the kaggle/python Docker image: https://github.com/kaggle/docker-python\n",
    "# For example, here's several helpful packages to load\n",
    "\n",
    "import numpy as np # linear algebra\n",
    "import pandas as pd # data processing, CSV file I/O (e.g. pd.read_csv)\n",
    "\n",
    "# Input data files are available in the read-only \"../input/\" directory\n",
    "# For example, running this (by clicking run or pressing Shift+Enter) will list all files under the input directory\n",
    "\n",
    "import os\n",
    "for dirname, _, filenames in os.walk('/kaggle/input'):\n",
    "    for filename in filenames:\n",
    "        print(os.path.join(dirname, filename))\n",
    "\n",
    "# You can write up to 20GB to the current directory (/kaggle/working/) that gets preserved as output when you create a version using \"Save & Run All\" \n",
    "# You can also write temporary files to /kaggle/temp/, but they won't be saved outside of the current session"
   ]
  },
  {
   "cell_type": "markdown",
   "id": "3c412461",
   "metadata": {
    "papermill": {
     "duration": 0.004578,
     "end_time": "2022-11-30T20:45:40.670611",
     "exception": false,
     "start_time": "2022-11-30T20:45:40.666033",
     "status": "completed"
    },
    "tags": []
   },
   "source": [
    "## reading the data set"
   ]
  },
  {
   "cell_type": "code",
   "execution_count": 2,
   "id": "72179a78",
   "metadata": {
    "execution": {
     "iopub.execute_input": "2022-11-30T20:45:40.684232Z",
     "iopub.status.busy": "2022-11-30T20:45:40.683174Z",
     "iopub.status.idle": "2022-11-30T20:45:40.737112Z",
     "shell.execute_reply": "2022-11-30T20:45:40.735703Z"
    },
    "papermill": {
     "duration": 0.063557,
     "end_time": "2022-11-30T20:45:40.740084",
     "exception": false,
     "start_time": "2022-11-30T20:45:40.676527",
     "status": "completed"
    },
    "tags": []
   },
   "outputs": [],
   "source": [
    "df = pd.read_csv('/kaggle/input/the-ubereats-restaurant-dataset-over-100000-us-r/Ubereat_US_Merchant.csv')"
   ]
  },
  {
   "cell_type": "code",
   "execution_count": 3,
   "id": "c9158f73",
   "metadata": {
    "execution": {
     "iopub.execute_input": "2022-11-30T20:45:40.748865Z",
     "iopub.status.busy": "2022-11-30T20:45:40.748363Z",
     "iopub.status.idle": "2022-11-30T20:45:40.784577Z",
     "shell.execute_reply": "2022-11-30T20:45:40.782705Z"
    },
    "papermill": {
     "duration": 0.044253,
     "end_time": "2022-11-30T20:45:40.787644",
     "exception": false,
     "start_time": "2022-11-30T20:45:40.743391",
     "status": "completed"
    },
    "tags": []
   },
   "outputs": [
    {
     "name": "stdout",
     "output_type": "stream",
     "text": [
      "<class 'pandas.core.frame.DataFrame'>\n",
      "RangeIndex: 1000 entries, 0 to 999\n",
      "Data columns (total 25 columns):\n",
      " #   Column          Non-Null Count  Dtype  \n",
      "---  ------          --------------  -----  \n",
      " 0   index           1000 non-null   int64  \n",
      " 1   city            999 non-null    object \n",
      " 2   state           1000 non-null   object \n",
      " 3   zipcode         997 non-null    object \n",
      " 4   address         1000 non-null   object \n",
      " 5   loc_name        1000 non-null   object \n",
      " 6   loc_number      1000 non-null   object \n",
      " 7   url             1000 non-null   object \n",
      " 8   promotion       110 non-null    object \n",
      " 9   latitude        1000 non-null   float64\n",
      " 10  longitude       1000 non-null   float64\n",
      " 11  is_open         1000 non-null   bool   \n",
      " 12  closed_message  986 non-null    object \n",
      " 13  delivery_fee    3 non-null      float64\n",
      " 14  delivery_time   14 non-null     object \n",
      " 15  review_count    374 non-null    float64\n",
      " 16  review_rating   418 non-null    float64\n",
      " 17  price_bucket    856 non-null    object \n",
      " 18  img1            953 non-null    object \n",
      " 19  img2            953 non-null    object \n",
      " 20  img3            953 non-null    object \n",
      " 21  img4            953 non-null    object \n",
      " 22  img5            953 non-null    object \n",
      " 23  scan_date       1000 non-null   object \n",
      " 24  TID             1000 non-null   int64  \n",
      "dtypes: bool(1), float64(5), int64(2), object(17)\n",
      "memory usage: 188.6+ KB\n"
     ]
    }
   ],
   "source": [
    "df.info()"
   ]
  },
  {
   "cell_type": "code",
   "execution_count": 4,
   "id": "3029bf01",
   "metadata": {
    "execution": {
     "iopub.execute_input": "2022-11-30T20:45:40.797428Z",
     "iopub.status.busy": "2022-11-30T20:45:40.796625Z",
     "iopub.status.idle": "2022-11-30T20:45:40.849571Z",
     "shell.execute_reply": "2022-11-30T20:45:40.847990Z"
    },
    "papermill": {
     "duration": 0.061128,
     "end_time": "2022-11-30T20:45:40.852420",
     "exception": false,
     "start_time": "2022-11-30T20:45:40.791292",
     "status": "completed"
    },
    "tags": []
   },
   "outputs": [
    {
     "data": {
      "text/html": [
       "<div>\n",
       "<style scoped>\n",
       "    .dataframe tbody tr th:only-of-type {\n",
       "        vertical-align: middle;\n",
       "    }\n",
       "\n",
       "    .dataframe tbody tr th {\n",
       "        vertical-align: top;\n",
       "    }\n",
       "\n",
       "    .dataframe thead th {\n",
       "        text-align: right;\n",
       "    }\n",
       "</style>\n",
       "<table border=\"1\" class=\"dataframe\">\n",
       "  <thead>\n",
       "    <tr style=\"text-align: right;\">\n",
       "      <th></th>\n",
       "      <th>index</th>\n",
       "      <th>latitude</th>\n",
       "      <th>longitude</th>\n",
       "      <th>delivery_fee</th>\n",
       "      <th>review_count</th>\n",
       "      <th>review_rating</th>\n",
       "      <th>TID</th>\n",
       "    </tr>\n",
       "  </thead>\n",
       "  <tbody>\n",
       "    <tr>\n",
       "      <th>count</th>\n",
       "      <td>1000.000000</td>\n",
       "      <td>1000.000000</td>\n",
       "      <td>1000.000000</td>\n",
       "      <td>3.00</td>\n",
       "      <td>374.000000</td>\n",
       "      <td>418.000000</td>\n",
       "      <td>1000.000000</td>\n",
       "    </tr>\n",
       "    <tr>\n",
       "      <th>mean</th>\n",
       "      <td>499.500000</td>\n",
       "      <td>33.326419</td>\n",
       "      <td>-86.625070</td>\n",
       "      <td>3.99</td>\n",
       "      <td>33.213904</td>\n",
       "      <td>4.479426</td>\n",
       "      <td>500.500000</td>\n",
       "    </tr>\n",
       "    <tr>\n",
       "      <th>std</th>\n",
       "      <td>288.819436</td>\n",
       "      <td>0.742832</td>\n",
       "      <td>0.467732</td>\n",
       "      <td>1.50</td>\n",
       "      <td>20.938496</td>\n",
       "      <td>0.337799</td>\n",
       "      <td>288.819436</td>\n",
       "    </tr>\n",
       "    <tr>\n",
       "      <th>min</th>\n",
       "      <td>0.000000</td>\n",
       "      <td>30.398450</td>\n",
       "      <td>-88.248540</td>\n",
       "      <td>2.49</td>\n",
       "      <td>11.000000</td>\n",
       "      <td>2.900000</td>\n",
       "      <td>1.000000</td>\n",
       "    </tr>\n",
       "    <tr>\n",
       "      <th>25%</th>\n",
       "      <td>249.750000</td>\n",
       "      <td>33.376806</td>\n",
       "      <td>-86.819204</td>\n",
       "      <td>3.24</td>\n",
       "      <td>17.000000</td>\n",
       "      <td>4.300000</td>\n",
       "      <td>250.750000</td>\n",
       "    </tr>\n",
       "    <tr>\n",
       "      <th>50%</th>\n",
       "      <td>499.500000</td>\n",
       "      <td>33.481640</td>\n",
       "      <td>-86.793128</td>\n",
       "      <td>3.99</td>\n",
       "      <td>27.000000</td>\n",
       "      <td>4.500000</td>\n",
       "      <td>500.500000</td>\n",
       "    </tr>\n",
       "    <tr>\n",
       "      <th>75%</th>\n",
       "      <td>749.250000</td>\n",
       "      <td>33.563345</td>\n",
       "      <td>-86.648350</td>\n",
       "      <td>4.74</td>\n",
       "      <td>44.000000</td>\n",
       "      <td>4.700000</td>\n",
       "      <td>750.250000</td>\n",
       "    </tr>\n",
       "    <tr>\n",
       "      <th>max</th>\n",
       "      <td>999.000000</td>\n",
       "      <td>34.991740</td>\n",
       "      <td>-85.236110</td>\n",
       "      <td>5.49</td>\n",
       "      <td>98.000000</td>\n",
       "      <td>5.000000</td>\n",
       "      <td>1000.000000</td>\n",
       "    </tr>\n",
       "  </tbody>\n",
       "</table>\n",
       "</div>"
      ],
      "text/plain": [
       "             index     latitude    longitude  delivery_fee  review_count  \\\n",
       "count  1000.000000  1000.000000  1000.000000          3.00    374.000000   \n",
       "mean    499.500000    33.326419   -86.625070          3.99     33.213904   \n",
       "std     288.819436     0.742832     0.467732          1.50     20.938496   \n",
       "min       0.000000    30.398450   -88.248540          2.49     11.000000   \n",
       "25%     249.750000    33.376806   -86.819204          3.24     17.000000   \n",
       "50%     499.500000    33.481640   -86.793128          3.99     27.000000   \n",
       "75%     749.250000    33.563345   -86.648350          4.74     44.000000   \n",
       "max     999.000000    34.991740   -85.236110          5.49     98.000000   \n",
       "\n",
       "       review_rating          TID  \n",
       "count     418.000000  1000.000000  \n",
       "mean        4.479426   500.500000  \n",
       "std         0.337799   288.819436  \n",
       "min         2.900000     1.000000  \n",
       "25%         4.300000   250.750000  \n",
       "50%         4.500000   500.500000  \n",
       "75%         4.700000   750.250000  \n",
       "max         5.000000  1000.000000  "
      ]
     },
     "execution_count": 4,
     "metadata": {},
     "output_type": "execute_result"
    }
   ],
   "source": [
    "df.describe()"
   ]
  },
  {
   "cell_type": "markdown",
   "id": "4b411c0f",
   "metadata": {
    "papermill": {
     "duration": 0.003589,
     "end_time": "2022-11-30T20:45:40.859686",
     "exception": false,
     "start_time": "2022-11-30T20:45:40.856097",
     "status": "completed"
    },
    "tags": []
   },
   "source": [
    "## Checking for null values"
   ]
  },
  {
   "cell_type": "code",
   "execution_count": 5,
   "id": "08911033",
   "metadata": {
    "execution": {
     "iopub.execute_input": "2022-11-30T20:45:40.869025Z",
     "iopub.status.busy": "2022-11-30T20:45:40.868604Z",
     "iopub.status.idle": "2022-11-30T20:45:40.881608Z",
     "shell.execute_reply": "2022-11-30T20:45:40.880183Z"
    },
    "papermill": {
     "duration": 0.021193,
     "end_time": "2022-11-30T20:45:40.884369",
     "exception": false,
     "start_time": "2022-11-30T20:45:40.863176",
     "status": "completed"
    },
    "tags": []
   },
   "outputs": [
    {
     "data": {
      "text/plain": [
       "index             0.000\n",
       "city              0.001\n",
       "state             0.000\n",
       "zipcode           0.003\n",
       "address           0.000\n",
       "loc_name          0.000\n",
       "loc_number        0.000\n",
       "url               0.000\n",
       "promotion         0.890\n",
       "latitude          0.000\n",
       "longitude         0.000\n",
       "is_open           0.000\n",
       "closed_message    0.014\n",
       "delivery_fee      0.997\n",
       "delivery_time     0.986\n",
       "review_count      0.626\n",
       "review_rating     0.582\n",
       "price_bucket      0.144\n",
       "img1              0.047\n",
       "img2              0.047\n",
       "img3              0.047\n",
       "img4              0.047\n",
       "img5              0.047\n",
       "scan_date         0.000\n",
       "TID               0.000\n",
       "dtype: float64"
      ]
     },
     "execution_count": 5,
     "metadata": {},
     "output_type": "execute_result"
    }
   ],
   "source": [
    "df.isna().sum()/df.shape[0]"
   ]
  },
  {
   "cell_type": "code",
   "execution_count": 6,
   "id": "e8b9d972",
   "metadata": {
    "execution": {
     "iopub.execute_input": "2022-11-30T20:45:40.894134Z",
     "iopub.status.busy": "2022-11-30T20:45:40.893711Z",
     "iopub.status.idle": "2022-11-30T20:45:40.900580Z",
     "shell.execute_reply": "2022-11-30T20:45:40.899444Z"
    },
    "papermill": {
     "duration": 0.015017,
     "end_time": "2022-11-30T20:45:40.903402",
     "exception": false,
     "start_time": "2022-11-30T20:45:40.888385",
     "status": "completed"
    },
    "tags": []
   },
   "outputs": [
    {
     "data": {
      "text/plain": [
       "1000"
      ]
     },
     "execution_count": 6,
     "metadata": {},
     "output_type": "execute_result"
    }
   ],
   "source": [
    "df.shape[0]"
   ]
  },
  {
   "cell_type": "code",
   "execution_count": null,
   "id": "f03e44cf",
   "metadata": {
    "papermill": {
     "duration": 0.003472,
     "end_time": "2022-11-30T20:45:40.910677",
     "exception": false,
     "start_time": "2022-11-30T20:45:40.907205",
     "status": "completed"
    },
    "tags": []
   },
   "outputs": [],
   "source": []
  }
 ],
 "metadata": {
  "kernelspec": {
   "display_name": "Python 3",
   "language": "python",
   "name": "python3"
  },
  "language_info": {
   "codemirror_mode": {
    "name": "ipython",
    "version": 3
   },
   "file_extension": ".py",
   "mimetype": "text/x-python",
   "name": "python",
   "nbconvert_exporter": "python",
   "pygments_lexer": "ipython3",
   "version": "3.7.12"
  },
  "papermill": {
   "default_parameters": {},
   "duration": 11.867127,
   "end_time": "2022-11-30T20:45:41.637766",
   "environment_variables": {},
   "exception": null,
   "input_path": "__notebook__.ipynb",
   "output_path": "__notebook__.ipynb",
   "parameters": {},
   "start_time": "2022-11-30T20:45:29.770639",
   "version": "2.3.4"
  }
 },
 "nbformat": 4,
 "nbformat_minor": 5
}
